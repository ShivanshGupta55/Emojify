{
  "nbformat": 4,
  "nbformat_minor": 0,
  "metadata": {
    "colab": {
      "name": "Emojify.ipynb",
      "provenance": [],
      "toc_visible": true,
      "authorship_tag": "ABX9TyPtstVdeUJT7EjADC/NotLc",
      "include_colab_link": true
    },
    "kernelspec": {
      "name": "python3",
      "display_name": "Python 3"
    }
  },
  "cells": [
    {
      "cell_type": "markdown",
      "metadata": {
        "id": "view-in-github",
        "colab_type": "text"
      },
      "source": [
        "<a href=\"https://colab.research.google.com/github/ShivanshGupta55/Emojify/blob/master/Emojify.ipynb\" target=\"_parent\"><img src=\"https://colab.research.google.com/assets/colab-badge.svg\" alt=\"Open In Colab\"/></a>"
      ]
    },
    {
      "cell_type": "code",
      "metadata": {
        "id": "JQYw5htUGVJA",
        "colab_type": "code",
        "colab": {}
      },
      "source": [
        "import numpy as np\n",
        "import matplotlib.pyplot as plt\n",
        "import csv\n",
        "\n",
        "%matplotlib inline"
      ],
      "execution_count": 0,
      "outputs": []
    },
    {
      "cell_type": "code",
      "metadata": {
        "id": "Qk7VKbcIXrg0",
        "colab_type": "code",
        "colab": {
          "base_uri": "https://localhost:8080/",
          "height": 422
        },
        "outputId": "2589dc80-8d16-4423-8be3-de1359fb188e"
      },
      "source": [
        "!wget -O moviedataset.zip http://nlp.stanford.edu/data/glove.42B.300d.zip\n",
        "print('unziping ...')\n",
        "!unzip -o -j moviedataset.zip "
      ],
      "execution_count": 2,
      "outputs": [
        {
          "output_type": "stream",
          "text": [
            "--2020-02-08 10:36:37--  http://nlp.stanford.edu/data/glove.42B.300d.zip\n",
            "Resolving nlp.stanford.edu (nlp.stanford.edu)... 171.64.67.140\n",
            "Connecting to nlp.stanford.edu (nlp.stanford.edu)|171.64.67.140|:80... connected.\n",
            "HTTP request sent, awaiting response... 302 Found\n",
            "Location: https://nlp.stanford.edu/data/glove.42B.300d.zip [following]\n",
            "--2020-02-08 10:36:37--  https://nlp.stanford.edu/data/glove.42B.300d.zip\n",
            "Connecting to nlp.stanford.edu (nlp.stanford.edu)|171.64.67.140|:443... connected.\n",
            "HTTP request sent, awaiting response... 301 Moved Permanently\n",
            "Location: http://downloads.cs.stanford.edu/nlp/data/glove.42B.300d.zip [following]\n",
            "--2020-02-08 10:36:37--  http://downloads.cs.stanford.edu/nlp/data/glove.42B.300d.zip\n",
            "Resolving downloads.cs.stanford.edu (downloads.cs.stanford.edu)... 171.64.64.22\n",
            "Connecting to downloads.cs.stanford.edu (downloads.cs.stanford.edu)|171.64.64.22|:80... connected.\n",
            "HTTP request sent, awaiting response... 200 OK\n",
            "Length: 1877800501 (1.7G) [application/zip]\n",
            "Saving to: ‘moviedataset.zip’\n",
            "\n",
            "moviedataset.zip    100%[===================>]   1.75G  1.97MB/s    in 14m 33s \n",
            "\n",
            "2020-02-08 10:51:11 (2.05 MB/s) - ‘moviedataset.zip’ saved [1877800501/1877800501]\n",
            "\n",
            "unziping ...\n",
            "Archive:  moviedataset.zip\n",
            "  inflating: glove.42B.300d.txt      \n"
          ],
          "name": "stdout"
        }
      ]
    },
    {
      "cell_type": "code",
      "metadata": {
        "id": "gVvz09SaJLi_",
        "colab_type": "code",
        "outputId": "c5d77507-9f2c-49b8-8d7b-72552cf74eb4",
        "colab": {
          "base_uri": "https://localhost:8080/",
          "height": 213
        }
      },
      "source": [
        "pip install emoji --upgrade\n"
      ],
      "execution_count": 3,
      "outputs": [
        {
          "output_type": "stream",
          "text": [
            "Collecting emoji\n",
            "\u001b[?25l  Downloading https://files.pythonhosted.org/packages/40/8d/521be7f0091fe0f2ae690cc044faf43e3445e0ff33c574eae752dd7e39fa/emoji-0.5.4.tar.gz (43kB)\n",
            "\r\u001b[K     |███████▌                        | 10kB 17.7MB/s eta 0:00:01\r\u001b[K     |███████████████                 | 20kB 1.5MB/s eta 0:00:01\r\u001b[K     |██████████████████████▋         | 30kB 1.7MB/s eta 0:00:01\r\u001b[K     |██████████████████████████████▏ | 40kB 1.7MB/s eta 0:00:01\r\u001b[K     |████████████████████████████████| 51kB 1.7MB/s \n",
            "\u001b[?25hBuilding wheels for collected packages: emoji\n",
            "  Building wheel for emoji (setup.py) ... \u001b[?25l\u001b[?25hdone\n",
            "  Created wheel for emoji: filename=emoji-0.5.4-cp36-none-any.whl size=42176 sha256=17144ab7498e6a0bccb6384575e95c22ec6cb8b88590819bafa93d4aa70f9aad\n",
            "  Stored in directory: /root/.cache/pip/wheels/2a/a9/0a/4f8e8cce8074232aba240caca3fade315bb49fac68808d1a9c\n",
            "Successfully built emoji\n",
            "Installing collected packages: emoji\n",
            "Successfully installed emoji-0.5.4\n"
          ],
          "name": "stdout"
        }
      ]
    },
    {
      "cell_type": "code",
      "metadata": {
        "id": "35rcuVe_Ghzc",
        "colab_type": "code",
        "colab": {}
      },
      "source": [
        "def read_glove_vecs(glove_file):\n",
        "    with open(glove_file, 'r') as f:\n",
        "        words = set()\n",
        "        word_to_vec_map = {}\n",
        "        for line in f:\n",
        "            line = line.strip().split()\n",
        "            curr_word = line[0]\n",
        "            words.add(curr_word)\n",
        "            word_to_vec_map[curr_word] = np.array(line[1:], dtype='float64')\n",
        "        \n",
        "        i = 1\n",
        "        words_to_index = {}\n",
        "        index_to_words = {}\n",
        "        for w in sorted(words):\n",
        "            words_to_index[w] = i\n",
        "            index_to_words[i] = w\n",
        "            i = i + 1\n",
        "    return words_to_index, index_to_words, word_to_vec_map"
      ],
      "execution_count": 0,
      "outputs": []
    },
    {
      "cell_type": "code",
      "metadata": {
        "id": "IBTKkWeCHVS-",
        "colab_type": "code",
        "colab": {}
      },
      "source": [
        "def softmax(x):\n",
        "    e_x = np.exp(x - np.max(x))\n",
        "    return e_x / e_x.sum()"
      ],
      "execution_count": 0,
      "outputs": []
    },
    {
      "cell_type": "code",
      "metadata": {
        "id": "IOJ9rMDlHbJe",
        "colab_type": "code",
        "colab": {}
      },
      "source": [
        "def read_csv(filename = 'data/emojify_data.csv'):\n",
        "    phrase = []\n",
        "    emoji = []\n",
        "\n",
        "    with open (filename) as csvDataFile:\n",
        "        csvReader = csv.reader(csvDataFile)\n",
        "\n",
        "        for row in csvReader:\n",
        "            phrase.append(row[0])\n",
        "            emoji.append(row[1])\n",
        "\n",
        "    X = np.asarray(phrase)\n",
        "    Y = np.asarray(emoji, dtype=int)\n",
        "\n",
        "    return X, Y"
      ],
      "execution_count": 0,
      "outputs": []
    },
    {
      "cell_type": "code",
      "metadata": {
        "id": "SdTbWoQwHfmU",
        "colab_type": "code",
        "colab": {}
      },
      "source": [
        "def convert_to_one_hot(Y, C):\n",
        "    Y = np.eye(C)[Y.reshape(-1)]\n",
        "    return Y"
      ],
      "execution_count": 0,
      "outputs": []
    },
    {
      "cell_type": "code",
      "metadata": {
        "id": "0kAnnRldHhlz",
        "colab_type": "code",
        "colab": {}
      },
      "source": [
        "emoji_dictionary = {\"0\": \"\\u2764\\uFE0F\",    # :heart: prints a black instead of red heart depending on the font\n",
        "                    \"1\": \":baseball:\",\n",
        "                    \"2\": \":smile:\",\n",
        "                    \"3\": \":disappointed:\",\n",
        "                    \"4\": \":fork_and_knife:\"}"
      ],
      "execution_count": 0,
      "outputs": []
    },
    {
      "cell_type": "code",
      "metadata": {
        "id": "gKhPOo3_HjbD",
        "colab_type": "code",
        "colab": {}
      },
      "source": [
        "#Converts a label (int or string) into the corresponding emoji code (string) ready to be printed\n",
        "def label_to_emoji(label):\n",
        "    return emoji.emojize(emoji_dictionary[str(label)], use_aliases=True)"
      ],
      "execution_count": 0,
      "outputs": []
    },
    {
      "cell_type": "code",
      "metadata": {
        "id": "MbbF2zaTHlUF",
        "colab_type": "code",
        "colab": {}
      },
      "source": [
        "def print_predictions(X, pred):\n",
        "    print()\n",
        "    for i in range(X.shape[0]):\n",
        "        print(X[i], label_to_emoji(int(pred[i])))"
      ],
      "execution_count": 0,
      "outputs": []
    },
    {
      "cell_type": "code",
      "metadata": {
        "id": "jFzCkk7sHwao",
        "colab_type": "code",
        "colab": {}
      },
      "source": [
        "def plot_confusion_matrix(y_actu, y_pred, title='Confusion matrix', cmap=plt.cm.gray_r):\n",
        "    \n",
        "    df_confusion = pd.crosstab(y_actu, y_pred.reshape(y_pred.shape[0],), rownames=['Actual'], colnames=['Predicted'], margins=True)\n",
        "    \n",
        "    df_conf_norm = df_confusion / df_confusion.sum(axis=1)\n",
        "    \n",
        "    plt.matshow(df_confusion, cmap=cmap) # imshow\n",
        "    #plt.title(title)\n",
        "    plt.colorbar()\n",
        "    tick_marks = np.arange(len(df_confusion.columns))\n",
        "    plt.xticks(tick_marks, df_confusion.columns, rotation=45)\n",
        "    plt.yticks(tick_marks, df_confusion.index)\n",
        "    #plt.tight_layout()\n",
        "    plt.ylabel(df_confusion.index.name)\n",
        "    plt.xlabel(df_confusion.columns.name)"
      ],
      "execution_count": 0,
      "outputs": []
    },
    {
      "cell_type": "code",
      "metadata": {
        "id": "v3GDv7ibHyuT",
        "colab_type": "code",
        "colab": {}
      },
      "source": [
        "def predict(X, Y, W, b, word_to_vec_map):\n",
        "  \n",
        "    m = X.shape[0]\n",
        "    pred = np.zeros((m, 1))\n",
        "    \n",
        "    for j in range(m):                       # Loop over training examples\n",
        "        \n",
        "        # Split jth test example (sentence) into list of lower case words\n",
        "        words = X[j].lower().split()\n",
        "        \n",
        "        # Average words' vectors\n",
        "        avg = np.zeros((300,))\n",
        "        for w in words:\n",
        "            avg += word_to_vec_map[w]\n",
        "        avg = avg/len(words)\n",
        "\n",
        "        # Forward propagation\n",
        "        Z = np.dot(W, avg) + b\n",
        "        A = softmax(Z)\n",
        "        pred[j] = np.argmax(A)\n",
        "        \n",
        "    print(\"Accuracy: \"  + str(np.mean((pred[:] == Y.reshape(Y.shape[0],1)[:]))))\n",
        "    \n",
        "    return pred"
      ],
      "execution_count": 0,
      "outputs": []
    },
    {
      "cell_type": "code",
      "metadata": {
        "id": "FV3YiKKgH4VC",
        "colab_type": "code",
        "colab": {}
      },
      "source": [
        "X_train, Y_train = read_csv('/content/train_emoji.csv')\n",
        "X_test, Y_test = read_csv('/content/tesss.csv')"
      ],
      "execution_count": 0,
      "outputs": []
    },
    {
      "cell_type": "code",
      "metadata": {
        "id": "Pfmhoh9HIlDm",
        "colab_type": "code",
        "colab": {}
      },
      "source": [
        "maxLen = len(max(X_train, key=len).split())"
      ],
      "execution_count": 0,
      "outputs": []
    },
    {
      "cell_type": "code",
      "metadata": {
        "id": "4m1iKvhuIrzL",
        "colab_type": "code",
        "outputId": "6db65e17-054b-4a3d-dbd0-24d84854a1db",
        "colab": {
          "base_uri": "https://localhost:8080/",
          "height": 193
        }
      },
      "source": [
        "import emoji\n",
        "for idx in range(10):\n",
        "    print(X_train[idx], label_to_emoji(Y_train[idx]))"
      ],
      "execution_count": 15,
      "outputs": [
        {
          "output_type": "stream",
          "text": [
            "never talk to me again 😞\n",
            "I am proud of your achievements 😄\n",
            "It is the worst day in my life 😞\n",
            "Miss you so much ❤️\n",
            "food is life 🍴\n",
            "I love you mum ❤️\n",
            "Stop saying bullshit 😞\n",
            "congratulations on your acceptance 😄\n",
            "The assignment is too long  😞\n",
            "I want to go play ⚾\n"
          ],
          "name": "stdout"
        }
      ]
    },
    {
      "cell_type": "code",
      "metadata": {
        "id": "CY_-ZebGIuWH",
        "colab_type": "code",
        "colab": {}
      },
      "source": [
        "Y_oh_train = convert_to_one_hot(Y_train, C = 5)\n",
        "Y_oh_test = convert_to_one_hot(Y_test, C = 5)"
      ],
      "execution_count": 0,
      "outputs": []
    },
    {
      "cell_type": "code",
      "metadata": {
        "id": "3upfFCloJcNJ",
        "colab_type": "code",
        "outputId": "b37c577d-e984-4937-fe13-e765a7d6e8b9",
        "colab": {
          "base_uri": "https://localhost:8080/",
          "height": 52
        }
      },
      "source": [
        "idx = 50\n",
        "print(f\"Sentence '{X_train[50]}' has label index {Y_train[idx]}, which is emoji {label_to_emoji(Y_train[idx])}\", )\n",
        "print(f\"Label index {Y_train[idx]} in one-hot encoding format is {Y_oh_train[idx]}\")"
      ],
      "execution_count": 17,
      "outputs": [
        {
          "output_type": "stream",
          "text": [
            "Sentence 'I missed you' has label index 0, which is emoji ❤️\n",
            "Label index 0 in one-hot encoding format is [1. 0. 0. 0. 0.]\n"
          ],
          "name": "stdout"
        }
      ]
    },
    {
      "cell_type": "code",
      "metadata": {
        "id": "7r-AASuXJeJ9",
        "colab_type": "code",
        "colab": {}
      },
      "source": [
        "word_to_index, index_to_word, word_to_vec_map = read_glove_vecs('glove.42B.300d.txt')"
      ],
      "execution_count": 0,
      "outputs": []
    },
    {
      "cell_type": "code",
      "metadata": {
        "id": "mE4VUPWYKSlX",
        "colab_type": "code",
        "outputId": "f29c4870-7f94-4b00-e73a-d38d9e8aedda",
        "colab": {
          "base_uri": "https://localhost:8080/",
          "height": 52
        }
      },
      "source": [
        "word = \"cucumber\"\n",
        "idx = 289\n",
        "print(\"the index of\", word, \"in the vocabulary is\", word_to_index[word])\n",
        "print(\"the\", str(idx) + \"th word in the vocabulary is\", index_to_word[idx])"
      ],
      "execution_count": 22,
      "outputs": [
        {
          "output_type": "stream",
          "text": [
            "the index of cucumber in the vocabulary is 730669\n",
            "the 289th word in the vocabulary is #afghanistan\n"
          ],
          "name": "stdout"
        }
      ]
    },
    {
      "cell_type": "code",
      "metadata": {
        "id": "YBCBp79qKVXy",
        "colab_type": "code",
        "colab": {}
      },
      "source": [
        "def sentence_to_avg(sentence, word_to_vec_map):\n",
        "   \n",
        "    words = [i.lower() for i in sentence.split()]\n",
        "\n",
        "    avg = np.zeros((50,))\n",
        "    \n",
        "    total = 0\n",
        "    for w in words:\n",
        "        total += word_to_vec_map[w]\n",
        "    avg = total/len(words)\n",
        "\n",
        "    \n",
        "    return avg"
      ],
      "execution_count": 0,
      "outputs": []
    },
    {
      "cell_type": "code",
      "metadata": {
        "id": "3WwOtgZFLlwV",
        "colab_type": "code",
        "outputId": "98f0106f-12e5-467f-834d-d67d9119f7ac",
        "colab": {
          "base_uri": "https://localhost:8080/",
          "height": 1000
        }
      },
      "source": [
        "avg = sentence_to_avg(\"Morrocan couscous is my favorite dish\", word_to_vec_map)\n",
        "print(\"avg = \\n\", avg)"
      ],
      "execution_count": 24,
      "outputs": [
        {
          "output_type": "stream",
          "text": [
            "avg = \n",
            " [ 1.00553017e-01 -8.33576667e-02 -1.72776833e-01 -2.78507667e-01\n",
            "  1.99437667e-01 -2.46014783e-01 -2.03323350e+00  3.06055000e-02\n",
            " -2.10030500e-01 -6.89365000e-01  2.56623333e-01 -1.61344667e-01\n",
            "  4.52720000e-01  1.14933500e-01  2.18695000e-01 -1.53166167e-01\n",
            " -1.48825000e-01 -2.58246300e-01  2.16091500e-01  6.40168333e-02\n",
            "  2.19809667e-01 -4.58520000e-02  3.17992833e-01 -1.06511167e-01\n",
            "  1.92146000e-01 -3.10596667e-01 -5.38175000e-02  1.78672667e-01\n",
            " -5.66815167e-02 -2.28010833e-01  1.47159667e-01  1.69405000e-02\n",
            "  1.66517833e-01  2.29831667e-01 -7.54416667e-02  1.12639000e-01\n",
            "  8.52650000e-02 -3.88316667e-03  9.47581667e-02  1.27241667e-01\n",
            "  2.32701167e-01 -1.64025883e-01 -6.26633333e-02 -1.04833333e-03\n",
            " -3.87443333e-02  1.60549500e-01 -1.33953667e-01 -2.88383333e-01\n",
            " -9.84986667e-02 -6.61574333e-02  7.10096667e-02  1.54935000e-01\n",
            "  1.81149000e-01  2.92956167e-01 -1.78991667e-01 -1.52724167e-01\n",
            " -7.47528333e-02  6.33021667e-02  2.20001000e-01  2.49698000e-01\n",
            " -9.32150000e-02  3.34200000e-03  9.41983333e-02 -5.08985833e-02\n",
            " -7.06421667e-02 -1.28963333e-01  8.91666667e-04  2.77129000e-01\n",
            "  3.52546667e-03 -1.04316667e-02 -1.91874333e-01  6.61298333e-02\n",
            "  8.44655000e-03 -1.20028050e-01 -2.51526500e-01  2.47830000e-01\n",
            "  3.02209167e-01 -8.51347333e-02  2.24759167e-01 -4.76711667e-02\n",
            "  2.25909167e-01 -1.00300000e-02 -1.35135167e-01 -9.45888333e-02\n",
            " -3.07913833e-01  2.51183333e-02 -7.13890000e-02  4.12001667e-01\n",
            " -6.67521667e-02  2.17494167e-01 -6.83818333e-02 -2.53793333e-02\n",
            " -1.15591667e-01  1.07951833e-01 -3.22288333e-01 -2.23695500e-01\n",
            " -1.42662000e+00 -3.69513167e-01 -3.14131667e-02 -3.97816667e-03\n",
            " -3.99250000e-02  3.17083333e-02  4.24506483e-01 -3.62566667e-02\n",
            "  7.13883333e-03  1.39183333e-02 -7.93785000e-02 -2.40511667e-02\n",
            " -8.04766167e-02  1.10917833e-01 -5.28616667e-02  2.44432000e-01\n",
            " -1.02050000e-02  2.97265500e-01  8.93825000e-02  1.71871667e-01\n",
            "  3.86556667e-01 -2.90311333e-01  2.88579000e-01  6.16016667e-03\n",
            "  1.05341500e-02  4.12675000e-02  1.84894800e-01  1.62488750e-01\n",
            " -5.90250000e-03  1.87729333e-01  2.31050000e-01 -1.31680333e-01\n",
            " -8.05406500e-02  1.48603333e-01 -2.44351968e-01 -3.79833333e-03\n",
            " -5.23233000e-02  1.29166167e-01  7.18228333e-02 -3.59984833e-02\n",
            "  1.93543333e-01 -1.59521667e-01  3.30295333e-01  2.71250983e-01\n",
            "  2.34372500e-01  2.65831667e-01 -8.36791667e-02 -1.46194500e-01\n",
            "  1.65190500e-01 -2.12355000e-01  2.37712333e-01  1.44281167e-01\n",
            "  5.08050000e-01  8.38465000e-02 -1.85301333e-01  1.15166667e-01\n",
            " -2.03012833e-01 -3.63066667e-02  1.59881667e-01 -8.62314533e-02\n",
            "  9.06083333e-02  1.54710500e-01 -1.21267333e-01 -2.52876150e-01\n",
            "  1.79599167e-01 -3.40728667e-01 -2.09245333e-01  6.94186667e-02\n",
            "  2.31061667e-02 -3.94186667e-02 -1.98461333e-01 -3.66255000e-02\n",
            "  8.33956667e-02 -6.20271667e-02 -4.26813167e-02 -7.92716333e-02\n",
            " -1.34941667e-02  3.91776667e-02 -2.52459500e-01  3.72945500e-01\n",
            "  1.08591000e-01 -2.99000000e-04 -1.49313333e-01 -2.10812667e-01\n",
            "  1.66262667e-01  8.96416667e-02 -9.70811667e-02  7.15716667e-02\n",
            " -1.19552500e-01 -1.22764117e-01 -8.70058333e-02 -9.16586667e-02\n",
            "  1.88673333e-02 -1.27039667e-02 -6.22965000e-02 -3.94416667e-02\n",
            "  1.30730000e-02  1.68231500e-01  9.92216667e-02  2.81646000e-01\n",
            "  7.34983333e-03 -2.40775833e-01  3.62317833e-01 -3.44155333e-01\n",
            " -2.28529000e-01 -1.10129167e-01  2.45511000e-01 -8.20326667e-02\n",
            "  1.21865233e-01  2.57626667e-01  1.63836667e-01 -3.79910000e-01\n",
            "  3.18831667e-01  1.73151667e-01  2.66166500e-01  1.01280167e-01\n",
            "  6.79516667e-02 -1.43885667e-01  1.98668167e-01 -1.06970833e-01\n",
            " -1.34100000e-01 -2.81926833e-01 -1.02097500e-01 -2.46770000e-01\n",
            "  3.85230000e-02  7.70666667e-02  4.87133333e-02 -1.69103167e-01\n",
            " -2.03290167e+00 -2.00294350e-01  1.16272167e-01 -1.74450000e-02\n",
            "  1.94926167e-01  1.45449333e-01 -4.37040000e-02  1.01236667e-01\n",
            "  8.76938333e-02 -1.76112500e-01  1.66806333e-01  2.12485000e-02\n",
            " -5.51800000e-03  2.38854667e-01 -1.29090667e-01 -3.70815000e-02\n",
            " -2.95273000e-01 -6.18983333e-03 -2.91889000e-01  2.44942167e-01\n",
            " -1.96725000e-01  3.20443333e-02  1.67977333e-01  2.56305000e-02\n",
            "  9.72416667e-02  2.09036333e-01 -1.17001833e-01 -2.08293833e-02\n",
            "  1.21179417e-01  7.00526667e-02  3.02271000e-01  5.27673333e-02\n",
            " -6.01383333e-03  1.62677667e-01  2.09288333e-01 -1.20268500e-02\n",
            "  3.08570000e-01 -3.47671000e-01  7.59600000e-02 -1.63514500e-01\n",
            " -1.64535667e-02  2.81985833e-01 -3.05423067e-01  1.34683583e-01\n",
            "  8.38090000e-02 -2.86812167e-01 -1.49208500e-01 -5.16092833e-02\n",
            " -2.72982067e-01  9.47631667e-03 -1.91914133e-01 -7.46533333e-02\n",
            "  1.45820500e-01 -2.29416667e-01 -3.83907500e-01 -7.87398000e-02\n",
            "  5.59083333e-01 -1.75390833e-01  1.44186667e-01  1.38623500e-01\n",
            "  3.53916667e-02  2.06907333e-01  8.28858333e-03 -6.18671667e-02\n",
            " -4.14638333e-02 -2.69981667e-01 -2.55394200e-01  6.88928333e-02\n",
            " -7.20265000e-02 -1.64299667e-01  4.21703333e-02  1.78679667e-01\n",
            " -2.00536667e-01 -1.33601667e-01 -1.01192500e-01 -2.94531667e-01]\n"
          ],
          "name": "stdout"
        }
      ]
    },
    {
      "cell_type": "code",
      "metadata": {
        "id": "IoS_XblfLoBy",
        "colab_type": "code",
        "colab": {}
      },
      "source": [
        "def model(X, Y, word_to_vec_map, learning_rate = 0.001, num_iterations = 500):\n",
        "    \n",
        "    np.random.seed(1)\n",
        "\n",
        "    # Define number of training examples\n",
        "    m = Y.shape[0]                          # number of training examples\n",
        "    n_y = 5                                 # number of classes  \n",
        "    n_h = 300                                # dimensions of the GloVe vectors \n",
        "    \n",
        "    # Initialize parameters using Xavier initialization\n",
        "    W = np.random.randn(n_y, n_h) / np.sqrt(n_h)\n",
        "    b = np.zeros((n_y,))\n",
        "    \n",
        "    # Convert Y to Y_onehot with n_y classes\n",
        "    Y_oh = convert_to_one_hot(Y, C = n_y) \n",
        "    \n",
        "    # Optimization loop\n",
        "    for t in range(num_iterations): # Loop over the number of iterations\n",
        "        for i in range(m):          # Loop over the training examples\n",
        "            \n",
        "    \n",
        "            # Average the word vectors of the words from the i'th training example\n",
        "            avg = sentence_to_avg(X[i], word_to_vec_map)\n",
        "\n",
        "            # Forward propagate the avg through the softmax layer\n",
        "            z = np.dot(W,avg) + b\n",
        "            a = softmax(z)\n",
        "\n",
        "            # Compute cost using the i'th training label's one hot representation and \"A\" (the output of the softmax)\n",
        "            cost = -np.sum(np.multiply(Y_oh[i], np.log(a)))\n",
        "    \n",
        "            \n",
        "            # Compute gradients \n",
        "            dz = a - Y_oh[i]\n",
        "            dW = np.dot(dz.reshape(n_y,1), avg.reshape(1, n_h))\n",
        "            db = dz\n",
        "\n",
        "            # Update parameters with Stochastic Gradient Descent\n",
        "            W = W - learning_rate * dW\n",
        "            b = b - learning_rate * db\n",
        "        \n",
        "        if t % 100 == 0:\n",
        "            print(\"Epoch: \" + str(t) + \" --- cost = \" + str(cost))\n",
        "            pred = predict(X, Y, W, b, word_to_vec_map) #predict is defined in emo_utils.py\n",
        "\n",
        "    return pred, W, b"
      ],
      "execution_count": 0,
      "outputs": []
    },
    {
      "cell_type": "code",
      "metadata": {
        "id": "AlyoHOakLz1I",
        "colab_type": "code",
        "outputId": "7fff338a-3a41-4597-9f8c-9a468812ec26",
        "colab": {
          "base_uri": "https://localhost:8080/",
          "height": 175
        }
      },
      "source": [
        "print(X_train.shape)\n",
        "print(Y_train.shape)\n",
        "print(np.eye(5)[Y_train.reshape(-1)].shape)\n",
        "print(X_train[0])\n",
        "print(type(X_train))\n",
        "Y = np.asarray([5,0,0,5, 4, 4, 4, 6, 6, 4, 1, 1, 5, 6, 6, 3, 6, 3, 4, 4])\n",
        "print(Y.shape)\n",
        "\n",
        "X = np.asarray(['I am going to the bar tonight', 'I love you', 'miss you my dear',\n",
        " 'Lets go party and drinks','Congrats on the new job','Congratulations',\n",
        " 'I am so happy for you', 'Why are you feeling bad', 'What is wrong with you',\n",
        " 'You totally deserve this prize', 'Let us go play football',\n",
        " 'Are you down for football this afternoon', 'Work hard play harder',\n",
        " 'It is suprising how people can be dumb sometimes',\n",
        " 'I am very disappointed','It is the best day in my life',\n",
        " 'I think I will end up alone','My life is so boring','Good job',\n",
        " 'Great so awesome'])\n",
        "\n",
        "print(X.shape)\n",
        "print(np.eye(5)[Y_train.reshape(-1)].shape)\n",
        "print(type(X_train))\n"
      ],
      "execution_count": 48,
      "outputs": [
        {
          "output_type": "stream",
          "text": [
            "(132,)\n",
            "(132,)\n",
            "(132, 5)\n",
            "never talk to me again\n",
            "<class 'numpy.ndarray'>\n",
            "(20,)\n",
            "(20,)\n",
            "(132, 5)\n",
            "<class 'numpy.ndarray'>\n"
          ],
          "name": "stdout"
        }
      ]
    },
    {
      "cell_type": "code",
      "metadata": {
        "id": "jBakryLvL28H",
        "colab_type": "code",
        "outputId": "f3cb7a26-b483-4db9-83f6-edac6638ae03",
        "colab": {
          "base_uri": "https://localhost:8080/",
          "height": 193
        }
      },
      "source": [
        "pred, W, b = model(X_train, Y_train, word_to_vec_map)\n"
      ],
      "execution_count": 49,
      "outputs": [
        {
          "output_type": "stream",
          "text": [
            "Epoch: 0 --- cost = 1.38957445317162\n",
            "Accuracy: 0.26515151515151514\n",
            "Epoch: 100 --- cost = 0.11164201497633176\n",
            "Accuracy: 0.9015151515151515\n",
            "Epoch: 200 --- cost = 0.0348228493978949\n",
            "Accuracy: 0.946969696969697\n",
            "Epoch: 300 --- cost = 0.01746568822635548\n",
            "Accuracy: 0.946969696969697\n",
            "Epoch: 400 --- cost = 0.010791270666876641\n",
            "Accuracy: 0.9621212121212122\n"
          ],
          "name": "stdout"
        }
      ]
    },
    {
      "cell_type": "code",
      "metadata": {
        "id": "rLd1nRPWL5t9",
        "colab_type": "code",
        "outputId": "4ad2e29c-9410-4b52-c633-cc5440c5ab24",
        "colab": {
          "base_uri": "https://localhost:8080/",
          "height": 87
        }
      },
      "source": [
        "print(\"Training set:\")\n",
        "pred_train = predict(X_train, Y_train, W, b, word_to_vec_map)\n",
        "print('Test set:')\n",
        "pred_test = predict(X_test, Y_test, W, b, word_to_vec_map)"
      ],
      "execution_count": 50,
      "outputs": [
        {
          "output_type": "stream",
          "text": [
            "Training set:\n",
            "Accuracy: 0.9848484848484849\n",
            "Test set:\n",
            "Accuracy: 0.8571428571428571\n"
          ],
          "name": "stdout"
        }
      ]
    },
    {
      "cell_type": "code",
      "metadata": {
        "id": "djYr5uc8MC4L",
        "colab_type": "code",
        "outputId": "3b86b533-7dfb-4584-8f71-8fbf77260291",
        "colab": {
          "base_uri": "https://localhost:8080/",
          "height": 158
        }
      },
      "source": [
        "X_my_sentences = np.array([\"i adore you\", \"i love you\", \"funny lol\", \"lets play with a ball\", \"food is ready\", \"not feeling happy\"])\n",
        "Y_my_labels = np.array([[0], [0], [2], [1], [4],[3]])\n",
        "\n",
        "pred = predict(X_my_sentences, Y_my_labels , W, b, word_to_vec_map)\n",
        "print_predictions(X_my_sentences, pred)"
      ],
      "execution_count": 51,
      "outputs": [
        {
          "output_type": "stream",
          "text": [
            "Accuracy: 0.8333333333333334\n",
            "\n",
            "i adore you ❤️\n",
            "i love you ❤️\n",
            "funny lol 😄\n",
            "lets play with a ball ⚾\n",
            "food is ready 🍴\n",
            "not feeling happy 😄\n"
          ],
          "name": "stdout"
        }
      ]
    },
    {
      "cell_type": "code",
      "metadata": {
        "id": "nIIHCxnbMFe6",
        "colab_type": "code",
        "colab": {
          "base_uri": "https://localhost:8080/",
          "height": 439
        },
        "outputId": "9ac1e8c6-2437-423f-d8d2-4aaf7f336dbf"
      },
      "source": [
        "import pandas as pd\n",
        "print(Y_test.shape)\n",
        "print('           '+ label_to_emoji(0)+ '    ' + label_to_emoji(1) + '    ' +  label_to_emoji(2)+ '    ' + label_to_emoji(3)+'   ' + label_to_emoji(4))\n",
        "print(pd.crosstab(Y_test, pred_test.reshape(56,), rownames=['Actual'], colnames=['Predicted'], margins=True))\n",
        "plot_confusion_matrix(Y_test, pred_test)"
      ],
      "execution_count": 54,
      "outputs": [
        {
          "output_type": "stream",
          "text": [
            "(56,)\n",
            "           ❤️    ⚾    😄    😞   🍴\n",
            "Predicted  0.0  1.0  2.0  3.0  4.0  All\n",
            "Actual                                 \n",
            "0            5    1    1    0    0    7\n",
            "1            0    7    0    1    0    8\n",
            "2            1    0   14    1    2   18\n",
            "3            1    0    0   15    0   16\n",
            "4            0    0    0    0    7    7\n",
            "All          7    8   15   17    9   56\n"
          ],
          "name": "stdout"
        },
        {
          "output_type": "display_data",
          "data": {
            "image/png": "[encoded data removed]",
            "text/plain": [
              "<Figure size 288x288 with 2 Axes>"
            ]
          },
          "metadata": {
            "tags": []
          }
        }
      ]
    },
    {
      "cell_type": "code",
      "metadata": {
        "id": "b8KeXgczemrt",
        "colab_type": "code",
        "colab": {}
      },
      "source": [
        ""
      ],
      "execution_count": 0,
      "outputs": []
    }
  ]
}